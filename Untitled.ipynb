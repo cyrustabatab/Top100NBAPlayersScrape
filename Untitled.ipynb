{
 "cells": [
  {
   "cell_type": "code",
   "execution_count": 1,
   "metadata": {},
   "outputs": [],
   "source": [
    "import pandas as pd"
   ]
  },
  {
   "cell_type": "code",
   "execution_count": 23,
   "metadata": {},
   "outputs": [],
   "source": [
    "nba = pd.read_csv(\"top100.csv\",index_col=0)"
   ]
  },
  {
   "cell_type": "code",
   "execution_count": 24,
   "metadata": {},
   "outputs": [
    {
     "data": {
      "text/html": [
       "<div>\n",
       "<style scoped>\n",
       "    .dataframe tbody tr th:only-of-type {\n",
       "        vertical-align: middle;\n",
       "    }\n",
       "\n",
       "    .dataframe tbody tr th {\n",
       "        vertical-align: top;\n",
       "    }\n",
       "\n",
       "    .dataframe thead th {\n",
       "        text-align: right;\n",
       "    }\n",
       "</style>\n",
       "<table border=\"1\" class=\"dataframe\">\n",
       "  <thead>\n",
       "    <tr style=\"text-align: right;\">\n",
       "      <th></th>\n",
       "      <th>name</th>\n",
       "      <th>team</th>\n",
       "      <th>position</th>\n",
       "    </tr>\n",
       "    <tr>\n",
       "      <th>rank</th>\n",
       "      <th></th>\n",
       "      <th></th>\n",
       "      <th></th>\n",
       "    </tr>\n",
       "  </thead>\n",
       "  <tbody>\n",
       "    <tr>\n",
       "      <th>1</th>\n",
       "      <td>LeBron James</td>\n",
       "      <td>Los Angeles Lakers</td>\n",
       "      <td>SF</td>\n",
       "    </tr>\n",
       "    <tr>\n",
       "      <th>2</th>\n",
       "      <td>Kawhi Leonard</td>\n",
       "      <td>Los Angeles Clippers</td>\n",
       "      <td>SF</td>\n",
       "    </tr>\n",
       "    <tr>\n",
       "      <th>3</th>\n",
       "      <td>Giannis Antetokounmpo</td>\n",
       "      <td>Milwaukee Bucks</td>\n",
       "      <td>PF</td>\n",
       "    </tr>\n",
       "    <tr>\n",
       "      <th>4</th>\n",
       "      <td>Stephen Curry</td>\n",
       "      <td>Golden State Warriors</td>\n",
       "      <td>PG</td>\n",
       "    </tr>\n",
       "    <tr>\n",
       "      <th>5</th>\n",
       "      <td>Anthony Davis</td>\n",
       "      <td>Los Angeles Lakers</td>\n",
       "      <td>PF</td>\n",
       "    </tr>\n",
       "    <tr>\n",
       "      <th>...</th>\n",
       "      <td>...</td>\n",
       "      <td>...</td>\n",
       "      <td>...</td>\n",
       "    </tr>\n",
       "    <tr>\n",
       "      <th>96</th>\n",
       "      <td>Otto Porter Jr.</td>\n",
       "      <td>Chicago Bulls</td>\n",
       "      <td>SF</td>\n",
       "    </tr>\n",
       "    <tr>\n",
       "      <th>97</th>\n",
       "      <td>Danny Green</td>\n",
       "      <td>Philadelphia 76ers</td>\n",
       "      <td>SG</td>\n",
       "    </tr>\n",
       "    <tr>\n",
       "      <th>98</th>\n",
       "      <td>Derrick Rose</td>\n",
       "      <td>Detroit Pistons</td>\n",
       "      <td>PG</td>\n",
       "    </tr>\n",
       "    <tr>\n",
       "      <th>99</th>\n",
       "      <td>George Hill</td>\n",
       "      <td>Oklahoma City Thunder</td>\n",
       "      <td>PG</td>\n",
       "    </tr>\n",
       "    <tr>\n",
       "      <th>100</th>\n",
       "      <td>Dejounte Murray</td>\n",
       "      <td>San Antonio Spurs</td>\n",
       "      <td>PG</td>\n",
       "    </tr>\n",
       "  </tbody>\n",
       "</table>\n",
       "<p>100 rows × 3 columns</p>\n",
       "</div>"
      ],
      "text/plain": [
       "                       name                   team position\n",
       "rank                                                       \n",
       "1              LeBron James     Los Angeles Lakers       SF\n",
       "2             Kawhi Leonard   Los Angeles Clippers       SF\n",
       "3     Giannis Antetokounmpo        Milwaukee Bucks       PF\n",
       "4             Stephen Curry  Golden State Warriors       PG\n",
       "5             Anthony Davis     Los Angeles Lakers       PF\n",
       "...                     ...                    ...      ...\n",
       "96          Otto Porter Jr.          Chicago Bulls       SF\n",
       "97              Danny Green     Philadelphia 76ers       SG\n",
       "98             Derrick Rose        Detroit Pistons       PG\n",
       "99              George Hill  Oklahoma City Thunder       PG\n",
       "100         Dejounte Murray      San Antonio Spurs       PG\n",
       "\n",
       "[100 rows x 3 columns]"
      ]
     },
     "execution_count": 24,
     "metadata": {},
     "output_type": "execute_result"
    }
   ],
   "source": [
    "nba"
   ]
  },
  {
   "cell_type": "code",
   "execution_count": 25,
   "metadata": {},
   "outputs": [
    {
     "data": {
      "text/plain": [
       "Miami Heat              5\n",
       "Boston Celtics          5\n",
       "Brooklyn Nets           5\n",
       "Los Angeles Clippers    4\n",
       "San Antonio Spurs       4\n",
       "Atlanta Hawks           4\n",
       "Los Angeles Lakers      4\n",
       "Philadelphia 76ers      4\n",
       "Indiana Pacers          4\n",
       "Utah Jazz               4\n",
       "Toronto Raptors         4\n",
       "Name: team, dtype: int64"
      ]
     },
     "execution_count": 25,
     "metadata": {},
     "output_type": "execute_result"
    }
   ],
   "source": [
    "nba.team.value_counts().head(11)"
   ]
  },
  {
   "cell_type": "code",
   "execution_count": 12,
   "metadata": {},
   "outputs": [
    {
     "data": {
      "text/plain": [
       "Orlando Magic             1\n",
       "Los Angeles Lakers        1\n",
       "Minnesota Timberwolves    1\n",
       "Denver Nuggets            1\n",
       "Philadelphia 76ers        1\n",
       "Name: team, dtype: int64"
      ]
     },
     "execution_count": 12,
     "metadata": {},
     "output_type": "execute_result"
    }
   ],
   "source": [
    "nba.team.value_counts().tail()"
   ]
  },
  {
   "cell_type": "code",
   "execution_count": 28,
   "metadata": {},
   "outputs": [
    {
     "data": {
      "text/plain": [
       "array(['Los Angeles Lakers', 'Los Angeles Clippers', 'Milwaukee Bucks',\n",
       "       'Golden State Warriors', 'Dallas Mavericks', 'Brooklyn Nets',\n",
       "       'Houston Rockets', 'Portland Trail Blazers', 'Denver Nuggets ',\n",
       "       'Boston Celtics', 'Philadelphia 76ers ', 'Miami Heat',\n",
       "       'Washington Wizards', 'Phoenix Suns', 'Minnesota Timberwolves ',\n",
       "       'Philadelphia 76ers', 'Utah Jazz', 'Denver Nuggets',\n",
       "       'New Orleans Pelicans', 'Atlanta Hawks', 'Toronto Raptors',\n",
       "       'Utah Jazz ', 'Sacramento Kings', 'Memphis Grizzlies',\n",
       "       'Indiana Pacers', 'Oklahoma City Thunder', 'Chicago Bulls',\n",
       "       'Orlando Magic ', 'Portland Trail Blazers ', 'San Antonio Spurs',\n",
       "       'Phoenix Suns ', 'Minnesota Timberwolves', 'Indiana Pacers ',\n",
       "       'Orlando Magic', 'Milwaukee Bucks ', 'Detroit Pistons',\n",
       "       'Los Angeles Clippers ', 'Cleveland Cavaliers',\n",
       "       'Los Angeles Lakers ', 'Charlotte Hornets'], dtype=object)"
      ]
     },
     "execution_count": 28,
     "metadata": {},
     "output_type": "execute_result"
    }
   ],
   "source": [
    "nba.team.unique()"
   ]
  },
  {
   "cell_type": "code",
   "execution_count": 27,
   "metadata": {},
   "outputs": [
    {
     "data": {
      "text/plain": [
       "40"
      ]
     },
     "execution_count": 27,
     "metadata": {},
     "output_type": "execute_result"
    }
   ],
   "source": [
    "nba.team.nunique()"
   ]
  },
  {
   "cell_type": "code",
   "execution_count": null,
   "metadata": {},
   "outputs": [],
   "source": []
  }
 ],
 "metadata": {
  "kernelspec": {
   "display_name": "Python 3",
   "language": "python",
   "name": "python3"
  },
  "language_info": {
   "codemirror_mode": {
    "name": "ipython",
    "version": 3
   },
   "file_extension": ".py",
   "mimetype": "text/x-python",
   "name": "python",
   "nbconvert_exporter": "python",
   "pygments_lexer": "ipython3",
   "version": "3.7.9"
  }
 },
 "nbformat": 4,
 "nbformat_minor": 4
}
